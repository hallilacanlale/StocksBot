{
  "nbformat": 4,
  "nbformat_minor": 0,
  "metadata": {
    "colab": {
      "name": "CS362_Project.ipynb",
      "provenance": [],
      "include_colab_link": true
    },
    "kernelspec": {
      "name": "python3",
      "display_name": "Python 3"
    },
    "language_info": {
      "name": "python"
    }
  },
  "cells": [
    {
      "cell_type": "markdown",
      "metadata": {
        "id": "view-in-github",
        "colab_type": "text"
      },
      "source": [
        "<a href=\"https://colab.research.google.com/github/hallilacanlale/StocksBot/blob/main/CS362_Project.ipynb\" target=\"_parent\"><img src=\"https://colab.research.google.com/assets/colab-badge.svg\" alt=\"Open In Colab\"/></a>"
      ]
    },
    {
      "cell_type": "code",
      "execution_count": 71,
      "metadata": {
        "colab": {
          "base_uri": "https://localhost:8080/"
        },
        "id": "Sa-P21wXMBQi",
        "outputId": "34ed3669-8560-410d-a465-711be5883391"
      },
      "outputs": [
        {
          "output_type": "stream",
          "name": "stdout",
          "text": [
            "Requirement already satisfied: yfinance in /usr/local/lib/python3.7/dist-packages (0.1.70)\n",
            "Requirement already satisfied: lxml>=4.5.1 in /usr/local/lib/python3.7/dist-packages (from yfinance) (4.8.0)\n",
            "Requirement already satisfied: requests>=2.26 in /usr/local/lib/python3.7/dist-packages (from yfinance) (2.27.1)\n",
            "Requirement already satisfied: numpy>=1.15 in /usr/local/lib/python3.7/dist-packages (from yfinance) (1.21.5)\n",
            "Requirement already satisfied: pandas>=0.24.0 in /usr/local/lib/python3.7/dist-packages (from yfinance) (1.3.5)\n",
            "Requirement already satisfied: multitasking>=0.0.7 in /usr/local/lib/python3.7/dist-packages (from yfinance) (0.0.10)\n",
            "Requirement already satisfied: python-dateutil>=2.7.3 in /usr/local/lib/python3.7/dist-packages (from pandas>=0.24.0->yfinance) (2.8.2)\n",
            "Requirement already satisfied: pytz>=2017.3 in /usr/local/lib/python3.7/dist-packages (from pandas>=0.24.0->yfinance) (2018.9)\n",
            "Requirement already satisfied: six>=1.5 in /usr/local/lib/python3.7/dist-packages (from python-dateutil>=2.7.3->pandas>=0.24.0->yfinance) (1.15.0)\n",
            "Requirement already satisfied: charset-normalizer~=2.0.0 in /usr/local/lib/python3.7/dist-packages (from requests>=2.26->yfinance) (2.0.12)\n",
            "Requirement already satisfied: urllib3<1.27,>=1.21.1 in /usr/local/lib/python3.7/dist-packages (from requests>=2.26->yfinance) (1.26.9)\n",
            "Requirement already satisfied: idna<4,>=2.5 in /usr/local/lib/python3.7/dist-packages (from requests>=2.26->yfinance) (2.10)\n",
            "Requirement already satisfied: certifi>=2017.4.17 in /usr/local/lib/python3.7/dist-packages (from requests>=2.26->yfinance) (2021.10.8)\n",
            "Requirement already satisfied: yahoofinancials in /usr/local/lib/python3.7/dist-packages (1.6)\n",
            "Requirement already satisfied: beautifulsoup4 in /usr/local/lib/python3.7/dist-packages (from yahoofinancials) (4.6.3)\n",
            "Requirement already satisfied: pytz in /usr/local/lib/python3.7/dist-packages (from yahoofinancials) (2018.9)\n"
          ]
        }
      ],
      "source": [
        "import pandas as pd\n",
        "!pip install yfinance\n",
        "!pip install yahoofinancials\n",
        "import yfinance as yf\n",
        "from yahoofinancials import YahooFinancials\n",
        "import time\n"
      ]
    },
    {
      "cell_type": "code",
      "source": [
        ""
      ],
      "metadata": {
        "id": "tNijGzyO5ZHp"
      },
      "execution_count": null,
      "outputs": []
    },
    {
      "cell_type": "code",
      "source": [
        "\n"
      ],
      "metadata": {
        "id": "QEYRFHBRMiQX"
      },
      "execution_count": 70,
      "outputs": []
    },
    {
      "cell_type": "code",
      "source": [
        ""
      ],
      "metadata": {
        "id": "Axwv52oGMn4q"
      },
      "execution_count": 70,
      "outputs": []
    },
    {
      "cell_type": "code",
      "source": [
        ""
      ],
      "metadata": {
        "id": "4By0fbreWqF9"
      },
      "execution_count": null,
      "outputs": []
    },
    {
      "cell_type": "code",
      "source": [
        "def rsi(df, window):\n",
        "    print(type(df))\n",
        "    diff = df.loc[:,'Close'].diff().tail(28)\n",
        "\n",
        "    up = diff.clip(lower=0)\n",
        "    down = -1 * diff.clip(upper=0)\n",
        "    \n",
        "    ma_up = up.ewm(com = window - 1, min_periods = window).mean()\n",
        "    ma_down = down.ewm(com = window - 1, min_periods = window).mean()\n",
        "\n",
        "    rs = abs(ma_up/ma_down)\n",
        "    rsi = 100 - 100/(1+rs)\n",
        "    return rsi"
      ],
      "metadata": {
        "id": "SLDdPc06WqOg"
      },
      "execution_count": null,
      "outputs": []
    },
    {
      "cell_type": "code",
      "source": [
        "\n",
        "data = yf.download(\n",
        "        tickers = user_input,\n",
        "        period = \"1d\", # user_input\n",
        "        interval = \"1m\", \n",
        "        group_by = 'ticker',\n",
        "        auto_adjust = True)\n",
        "print((data.loc[:,\"Close\"].tail(14)))\n"
      ],
      "metadata": {
        "colab": {
          "base_uri": "https://localhost:8080/"
        },
        "id": "vhJiybs7S6qn",
        "outputId": "3e8b3424-9570-4fea-dd6b-6d5494f44a2b"
      },
      "execution_count": null,
      "outputs": [
        {
          "output_type": "stream",
          "name": "stdout",
          "text": [
            "\r[*********************100%***********************]  1 of 1 completed\n",
            "Datetime\n",
            "2022-04-18 14:42:00-04:00    165.440002\n",
            "2022-04-18 14:43:00-04:00    165.479996\n",
            "2022-04-18 14:44:00-04:00    165.440002\n",
            "2022-04-18 14:45:00-04:00    165.360001\n",
            "2022-04-18 14:46:00-04:00    165.235001\n",
            "2022-04-18 14:47:00-04:00    165.309998\n",
            "2022-04-18 14:48:00-04:00    165.354996\n",
            "2022-04-18 14:49:00-04:00    165.369598\n",
            "2022-04-18 14:50:00-04:00    165.404999\n",
            "2022-04-18 14:51:00-04:00    165.500000\n",
            "2022-04-18 14:52:00-04:00    165.520004\n",
            "2022-04-18 14:53:00-04:00    165.494995\n",
            "2022-04-18 14:54:00-04:00    165.460007\n",
            "2022-04-18 14:55:15-04:00    165.419998\n",
            "Name: Close, dtype: float64\n"
          ]
        }
      ]
    },
    {
      "cell_type": "code",
      "source": [
        "!pip install pyserial\n",
        "import serial\n",
        "ser = serial.Serial('com5', 9600)\n",
        "\n",
        "while True:\n",
        "    # count = chooseTicker(count)\n",
        "    # price = round(si.get_live_price(tickers[count]),2)\n",
        "    # ser.write(int(price).to_bytes(2, 'big'))\n",
        "    # ser.write(int((price%1)*100).to_bytes(1, 'big'))\n",
        "    # ser.write(int(closePrice[count]).to_bytes(2, 'big'))\n",
        "    # ser.write(int((closePrice[count]%1)*100).to_bytes(1, 'big'))"
      ],
      "metadata": {
        "id": "ItVsW5TBLX6s",
        "colab": {
          "base_uri": "https://localhost:8080/",
          "height": 443
        },
        "outputId": "23521984-392a-4be7-a2c8-78dcbd0ed3e7"
      },
      "execution_count": 74,
      "outputs": [
        {
          "output_type": "stream",
          "name": "stdout",
          "text": [
            "Requirement already satisfied: pyserial in /usr/local/lib/python3.7/dist-packages (3.5)\n"
          ]
        },
        {
          "output_type": "error",
          "ename": "SerialException",
          "evalue": "ignored",
          "traceback": [
            "\u001b[0;31m---------------------------------------------------------------------------\u001b[0m",
            "\u001b[0;31mFileNotFoundError\u001b[0m                         Traceback (most recent call last)",
            "\u001b[0;32m/usr/local/lib/python3.7/dist-packages/serial/serialposix.py\u001b[0m in \u001b[0;36mopen\u001b[0;34m(self)\u001b[0m\n\u001b[1;32m    321\u001b[0m         \u001b[0;32mtry\u001b[0m\u001b[0;34m:\u001b[0m\u001b[0;34m\u001b[0m\u001b[0;34m\u001b[0m\u001b[0m\n\u001b[0;32m--> 322\u001b[0;31m             \u001b[0mself\u001b[0m\u001b[0;34m.\u001b[0m\u001b[0mfd\u001b[0m \u001b[0;34m=\u001b[0m \u001b[0mos\u001b[0m\u001b[0;34m.\u001b[0m\u001b[0mopen\u001b[0m\u001b[0;34m(\u001b[0m\u001b[0mself\u001b[0m\u001b[0;34m.\u001b[0m\u001b[0mportstr\u001b[0m\u001b[0;34m,\u001b[0m \u001b[0mos\u001b[0m\u001b[0;34m.\u001b[0m\u001b[0mO_RDWR\u001b[0m \u001b[0;34m|\u001b[0m \u001b[0mos\u001b[0m\u001b[0;34m.\u001b[0m\u001b[0mO_NOCTTY\u001b[0m \u001b[0;34m|\u001b[0m \u001b[0mos\u001b[0m\u001b[0;34m.\u001b[0m\u001b[0mO_NONBLOCK\u001b[0m\u001b[0;34m)\u001b[0m\u001b[0;34m\u001b[0m\u001b[0;34m\u001b[0m\u001b[0m\n\u001b[0m\u001b[1;32m    323\u001b[0m         \u001b[0;32mexcept\u001b[0m \u001b[0mOSError\u001b[0m \u001b[0;32mas\u001b[0m \u001b[0mmsg\u001b[0m\u001b[0;34m:\u001b[0m\u001b[0;34m\u001b[0m\u001b[0;34m\u001b[0m\u001b[0m\n",
            "\u001b[0;31mFileNotFoundError\u001b[0m: [Errno 2] No such file or directory: 'com5'",
            "\nDuring handling of the above exception, another exception occurred:\n",
            "\u001b[0;31mSerialException\u001b[0m                           Traceback (most recent call last)",
            "\u001b[0;32m<ipython-input-74-1085a9b47f19>\u001b[0m in \u001b[0;36m<module>\u001b[0;34m()\u001b[0m\n\u001b[1;32m      1\u001b[0m \u001b[0mget_ipython\u001b[0m\u001b[0;34m(\u001b[0m\u001b[0;34m)\u001b[0m\u001b[0;34m.\u001b[0m\u001b[0msystem\u001b[0m\u001b[0;34m(\u001b[0m\u001b[0;34m'pip install pyserial'\u001b[0m\u001b[0;34m)\u001b[0m\u001b[0;34m\u001b[0m\u001b[0;34m\u001b[0m\u001b[0m\n\u001b[1;32m      2\u001b[0m \u001b[0;32mimport\u001b[0m \u001b[0mserial\u001b[0m\u001b[0;34m\u001b[0m\u001b[0;34m\u001b[0m\u001b[0m\n\u001b[0;32m----> 3\u001b[0;31m \u001b[0mser\u001b[0m \u001b[0;34m=\u001b[0m \u001b[0mserial\u001b[0m\u001b[0;34m.\u001b[0m\u001b[0mSerial\u001b[0m\u001b[0;34m(\u001b[0m\u001b[0;34m'com5'\u001b[0m\u001b[0;34m,\u001b[0m \u001b[0;36m9600\u001b[0m\u001b[0;34m)\u001b[0m\u001b[0;34m\u001b[0m\u001b[0;34m\u001b[0m\u001b[0m\n\u001b[0m\u001b[1;32m      4\u001b[0m \u001b[0;34m\u001b[0m\u001b[0m\n\u001b[1;32m      5\u001b[0m \u001b[0;32mwhile\u001b[0m \u001b[0;32mTrue\u001b[0m\u001b[0;34m:\u001b[0m\u001b[0;34m\u001b[0m\u001b[0;34m\u001b[0m\u001b[0m\n",
            "\u001b[0;32m/usr/local/lib/python3.7/dist-packages/serial/serialutil.py\u001b[0m in \u001b[0;36m__init__\u001b[0;34m(self, port, baudrate, bytesize, parity, stopbits, timeout, xonxoff, rtscts, write_timeout, dsrdtr, inter_byte_timeout, exclusive, **kwargs)\u001b[0m\n\u001b[1;32m    242\u001b[0m \u001b[0;34m\u001b[0m\u001b[0m\n\u001b[1;32m    243\u001b[0m         \u001b[0;32mif\u001b[0m \u001b[0mport\u001b[0m \u001b[0;32mis\u001b[0m \u001b[0;32mnot\u001b[0m \u001b[0;32mNone\u001b[0m\u001b[0;34m:\u001b[0m\u001b[0;34m\u001b[0m\u001b[0;34m\u001b[0m\u001b[0m\n\u001b[0;32m--> 244\u001b[0;31m             \u001b[0mself\u001b[0m\u001b[0;34m.\u001b[0m\u001b[0mopen\u001b[0m\u001b[0;34m(\u001b[0m\u001b[0;34m)\u001b[0m\u001b[0;34m\u001b[0m\u001b[0;34m\u001b[0m\u001b[0m\n\u001b[0m\u001b[1;32m    245\u001b[0m \u001b[0;34m\u001b[0m\u001b[0m\n\u001b[1;32m    246\u001b[0m     \u001b[0;31m#  -  -  -  -  -  -  -  -  -  -  -  -  -  -  -  -  -  -  -  -  -  -  -  -\u001b[0m\u001b[0;34m\u001b[0m\u001b[0;34m\u001b[0m\u001b[0;34m\u001b[0m\u001b[0m\n",
            "\u001b[0;32m/usr/local/lib/python3.7/dist-packages/serial/serialposix.py\u001b[0m in \u001b[0;36mopen\u001b[0;34m(self)\u001b[0m\n\u001b[1;32m    323\u001b[0m         \u001b[0;32mexcept\u001b[0m \u001b[0mOSError\u001b[0m \u001b[0;32mas\u001b[0m \u001b[0mmsg\u001b[0m\u001b[0;34m:\u001b[0m\u001b[0;34m\u001b[0m\u001b[0;34m\u001b[0m\u001b[0m\n\u001b[1;32m    324\u001b[0m             \u001b[0mself\u001b[0m\u001b[0;34m.\u001b[0m\u001b[0mfd\u001b[0m \u001b[0;34m=\u001b[0m \u001b[0;32mNone\u001b[0m\u001b[0;34m\u001b[0m\u001b[0;34m\u001b[0m\u001b[0m\n\u001b[0;32m--> 325\u001b[0;31m             \u001b[0;32mraise\u001b[0m \u001b[0mSerialException\u001b[0m\u001b[0;34m(\u001b[0m\u001b[0mmsg\u001b[0m\u001b[0;34m.\u001b[0m\u001b[0merrno\u001b[0m\u001b[0;34m,\u001b[0m \u001b[0;34m\"could not open port {}: {}\"\u001b[0m\u001b[0;34m.\u001b[0m\u001b[0mformat\u001b[0m\u001b[0;34m(\u001b[0m\u001b[0mself\u001b[0m\u001b[0;34m.\u001b[0m\u001b[0m_port\u001b[0m\u001b[0;34m,\u001b[0m \u001b[0mmsg\u001b[0m\u001b[0;34m)\u001b[0m\u001b[0;34m)\u001b[0m\u001b[0;34m\u001b[0m\u001b[0;34m\u001b[0m\u001b[0m\n\u001b[0m\u001b[1;32m    326\u001b[0m         \u001b[0;31m#~ fcntl.fcntl(self.fd, fcntl.F_SETFL, 0)  # set blocking\u001b[0m\u001b[0;34m\u001b[0m\u001b[0;34m\u001b[0m\u001b[0;34m\u001b[0m\u001b[0m\n\u001b[1;32m    327\u001b[0m \u001b[0;34m\u001b[0m\u001b[0m\n",
            "\u001b[0;31mSerialException\u001b[0m: [Errno 2] could not open port com5: [Errno 2] No such file or directory: 'com5'"
          ]
        }
      ]
    },
    {
      "cell_type": "code",
      "source": [
        "while True:\n",
        "  print()\n",
        "  data = yf.download(\n",
        "        tickers = user_input,\n",
        "        period = \"1d\", # user_input\n",
        "        interval = \"1m\", \n",
        "        group_by = 'ticker',\n",
        "        auto_adjust = True)\n",
        "  print((data.loc[:,\"Close\"].tail(14)))\n",
        "  res = rsi(data, 14)\n",
        "  prev_res_val = res.iat[-2]\n",
        "  curr_res_val = res.iat[-1]\n",
        "\n",
        "  print(prev_res_val)\n",
        "  print(curr_res_val)\n",
        "\n",
        "  if (curr_res_val <= 30):\n",
        "    print (\"buy signal, buzzer\")\n",
        "  elif (curr_res_val >= 70): \n",
        "    print (\"sell signal, buzzer\")\n",
        "\n",
        "  if (prev_res_val > curr_res_val):\n",
        "    print (\"red led light up\")\n",
        "  elif (prev_res_val < curr_res_val):\n",
        "    print(\"green led light up\")\n",
        "\n",
        "\n",
        "  time.sleep(60) \n",
        "\n"
      ],
      "metadata": {
        "id": "R5uZ5DqDW15i",
        "colab": {
          "base_uri": "https://localhost:8080/",
          "height": 1000
        },
        "outputId": "ac1d2356-38f8-473a-d46e-f2e6a5263407"
      },
      "execution_count": null,
      "outputs": [
        {
          "output_type": "stream",
          "name": "stdout",
          "text": [
            "\n",
            "\r[*********************100%***********************]  1 of 1 completed\n",
            "Datetime\n",
            "2022-04-18 14:50:00-04:00    165.404999\n",
            "2022-04-18 14:51:00-04:00    165.500000\n",
            "2022-04-18 14:52:00-04:00    165.520004\n",
            "2022-04-18 14:53:00-04:00    165.494995\n",
            "2022-04-18 14:54:00-04:00    165.460007\n",
            "2022-04-18 14:55:00-04:00    165.250000\n",
            "2022-04-18 14:56:00-04:00    165.350006\n",
            "2022-04-18 14:57:00-04:00    165.490005\n",
            "2022-04-18 14:58:00-04:00    165.389999\n",
            "2022-04-18 14:59:00-04:00    165.250000\n",
            "2022-04-18 15:00:00-04:00    165.240097\n",
            "2022-04-18 15:01:00-04:00    165.169998\n",
            "2022-04-18 15:02:00-04:00    165.110199\n",
            "2022-04-18 15:03:45-04:00    165.160004\n",
            "Name: Close, dtype: float64\n",
            "<class 'pandas.core.frame.DataFrame'>\n",
            "33.8818229184199\n",
            "37.63826554548537\n",
            "green led light up\n",
            "\n",
            "[*********************100%***********************]  1 of 1 completed\n",
            "Datetime\n",
            "2022-04-18 14:51:00-04:00    165.500000\n",
            "2022-04-18 14:52:00-04:00    165.520004\n",
            "2022-04-18 14:53:00-04:00    165.494995\n",
            "2022-04-18 14:54:00-04:00    165.460007\n",
            "2022-04-18 14:55:00-04:00    165.250000\n",
            "2022-04-18 14:56:00-04:00    165.350006\n",
            "2022-04-18 14:57:00-04:00    165.490005\n",
            "2022-04-18 14:58:00-04:00    165.389999\n",
            "2022-04-18 14:59:00-04:00    165.250000\n",
            "2022-04-18 15:00:00-04:00    165.240097\n",
            "2022-04-18 15:01:00-04:00    165.169998\n",
            "2022-04-18 15:02:00-04:00    165.110199\n",
            "2022-04-18 15:03:00-04:00    165.149994\n",
            "2022-04-18 15:04:44-04:00    165.070007\n",
            "Name: Close, dtype: float64\n",
            "<class 'pandas.core.frame.DataFrame'>\n",
            "36.91881010708024\n",
            "33.58099210571916\n",
            "red led light up\n",
            "\n",
            "[*********************100%***********************]  1 of 1 completed\n",
            "Datetime\n",
            "2022-04-18 14:52:00-04:00    165.520004\n",
            "2022-04-18 14:53:00-04:00    165.494995\n",
            "2022-04-18 14:54:00-04:00    165.460007\n",
            "2022-04-18 14:55:00-04:00    165.250000\n",
            "2022-04-18 14:56:00-04:00    165.350006\n",
            "2022-04-18 14:57:00-04:00    165.490005\n",
            "2022-04-18 14:58:00-04:00    165.389999\n",
            "2022-04-18 14:59:00-04:00    165.250000\n",
            "2022-04-18 15:00:00-04:00    165.240097\n",
            "2022-04-18 15:01:00-04:00    165.169998\n",
            "2022-04-18 15:02:00-04:00    165.110199\n",
            "2022-04-18 15:03:00-04:00    165.149994\n",
            "2022-04-18 15:04:00-04:00    165.049896\n",
            "2022-04-18 15:05:44-04:00    165.160004\n",
            "Name: Close, dtype: float64\n",
            "<class 'pandas.core.frame.DataFrame'>\n",
            "32.00544919644149\n",
            "39.96956254256882\n",
            "green led light up\n",
            "\n",
            "[*********************100%***********************]  1 of 1 completed\n",
            "Datetime\n",
            "2022-04-18 14:53:00-04:00    165.494995\n",
            "2022-04-18 14:54:00-04:00    165.460007\n",
            "2022-04-18 14:55:00-04:00    165.250000\n",
            "2022-04-18 14:56:00-04:00    165.350006\n",
            "2022-04-18 14:57:00-04:00    165.490005\n",
            "2022-04-18 14:58:00-04:00    165.389999\n",
            "2022-04-18 14:59:00-04:00    165.250000\n",
            "2022-04-18 15:00:00-04:00    165.240097\n",
            "2022-04-18 15:01:00-04:00    165.169998\n",
            "2022-04-18 15:02:00-04:00    165.110199\n",
            "2022-04-18 15:03:00-04:00    165.149994\n",
            "2022-04-18 15:04:00-04:00    165.049896\n",
            "2022-04-18 15:05:00-04:00    165.160004\n",
            "2022-04-18 15:06:45-04:00    165.180298\n",
            "Name: Close, dtype: float64\n",
            "<class 'pandas.core.frame.DataFrame'>\n",
            "40.464312392396764\n",
            "41.833364064614756\n",
            "green led light up\n"
          ]
        },
        {
          "output_type": "error",
          "ename": "KeyboardInterrupt",
          "evalue": "ignored",
          "traceback": [
            "\u001b[0;31m---------------------------------------------------------------------------\u001b[0m",
            "\u001b[0;31mKeyboardInterrupt\u001b[0m                         Traceback (most recent call last)",
            "\u001b[0;32m<ipython-input-70-b247d69a6335>\u001b[0m in \u001b[0;36m<module>\u001b[0;34m()\u001b[0m\n\u001b[1;32m     26\u001b[0m \u001b[0;34m\u001b[0m\u001b[0m\n\u001b[1;32m     27\u001b[0m \u001b[0;34m\u001b[0m\u001b[0m\n\u001b[0;32m---> 28\u001b[0;31m   \u001b[0mtime\u001b[0m\u001b[0;34m.\u001b[0m\u001b[0msleep\u001b[0m\u001b[0;34m(\u001b[0m\u001b[0;36m60\u001b[0m\u001b[0;34m)\u001b[0m\u001b[0;34m\u001b[0m\u001b[0;34m\u001b[0m\u001b[0m\n\u001b[0m\u001b[1;32m     29\u001b[0m \u001b[0;34m\u001b[0m\u001b[0m\n",
            "\u001b[0;31mKeyboardInterrupt\u001b[0m: "
          ]
        }
      ]
    },
    {
      "cell_type": "code",
      "source": [
        "res = rsi(data, 14)\n",
        "print(res)\n",
        "prev_res_val = res.iat[-2]\n",
        "curr_res_val = res.iat[-1]\n",
        "\n",
        "print(prev_res_val)\n",
        "print(curr_res_val)\n",
        "\n",
        "if (curr_res_val <= 30):\n",
        "  print (\"buy signal\")\n",
        "elif (curr_res_val >= 70): \n",
        "  print (\"sell signal\")"
      ],
      "metadata": {
        "colab": {
          "base_uri": "https://localhost:8080/"
        },
        "id": "zOQ0vT98BH5h",
        "outputId": "ff6bf65a-59c4-4984-d420-4afb25188371"
      },
      "execution_count": null,
      "outputs": [
        {
          "output_type": "stream",
          "name": "stdout",
          "text": [
            "<class 'pandas.core.frame.DataFrame'>\n",
            "Datetime\n",
            "2022-04-18 14:28:00-04:00          NaN\n",
            "2022-04-18 14:29:00-04:00          NaN\n",
            "2022-04-18 14:30:00-04:00          NaN\n",
            "2022-04-18 14:31:00-04:00          NaN\n",
            "2022-04-18 14:32:00-04:00          NaN\n",
            "2022-04-18 14:33:00-04:00          NaN\n",
            "2022-04-18 14:34:00-04:00          NaN\n",
            "2022-04-18 14:35:00-04:00          NaN\n",
            "2022-04-18 14:36:00-04:00          NaN\n",
            "2022-04-18 14:37:00-04:00          NaN\n",
            "2022-04-18 14:38:00-04:00          NaN\n",
            "2022-04-18 14:39:00-04:00          NaN\n",
            "2022-04-18 14:40:00-04:00          NaN\n",
            "2022-04-18 14:41:00-04:00    46.740940\n",
            "2022-04-18 14:42:00-04:00    42.769363\n",
            "2022-04-18 14:43:00-04:00    47.567279\n",
            "2022-04-18 14:44:00-04:00    43.628355\n",
            "2022-04-18 14:45:00-04:00    37.023745\n",
            "2022-04-18 14:46:00-04:00    29.507437\n",
            "2022-04-18 14:47:00-04:00    37.681858\n",
            "2022-04-18 14:48:00-04:00    42.025803\n",
            "2022-04-18 14:49:00-04:00    43.404515\n",
            "2022-04-18 14:50:00-04:00    46.712940\n",
            "2022-04-18 14:51:00-04:00    54.414398\n",
            "2022-04-18 14:52:00-04:00    55.861010\n",
            "2022-04-18 14:53:00-04:00    53.572125\n",
            "2022-04-18 14:54:00-04:00    50.457196\n",
            "2022-04-18 14:55:15-04:00    47.085780\n",
            "Name: Close, dtype: float64\n",
            "50.457195862100264\n",
            "47.085780005504276\n"
          ]
        }
      ]
    },
    {
      "cell_type": "code",
      "source": [
        ""
      ],
      "metadata": {
        "id": "gZ-8iiSU5a8p"
      },
      "execution_count": null,
      "outputs": []
    },
    {
      "cell_type": "code",
      "source": [
        ""
      ],
      "metadata": {
        "id": "kE7q-Hjm5hWW"
      },
      "execution_count": null,
      "outputs": []
    },
    {
      "cell_type": "code",
      "source": [
        ""
      ],
      "metadata": {
        "id": "1G03Q1Rr51xK"
      },
      "execution_count": null,
      "outputs": []
    }
  ]
}